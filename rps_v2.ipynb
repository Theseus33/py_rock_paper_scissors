{
 "cells": [
  {
   "cell_type": "code",
   "execution_count": 1,
   "metadata": {},
   "outputs": [
    {
     "name": "stdout",
     "output_type": "stream",
     "text": [
      "Rock\n",
      "Paper\n",
      "Scissors\n"
     ]
    }
   ],
   "source": [
    "print(\"Rock\")\n",
    "print(\"Paper\")\n",
    "print(\"Scissors\")"
   ]
  },
  {
   "cell_type": "code",
   "execution_count": 2,
   "metadata": {},
   "outputs": [
    {
     "name": "stdout",
     "output_type": "stream",
     "text": [
      "Player 1, make your move: rock\n",
      "Player 2, make your move: rock\n"
     ]
    }
   ],
   "source": [
    "player1 = input(\"Player 1, make your move: \")\n",
    "player2 = input(\"Player 2, make your move: \")\n"
   ]
  },
  {
   "cell_type": "code",
   "execution_count": 4,
   "metadata": {},
   "outputs": [
    {
     "name": "stdout",
     "output_type": "stream",
     "text": [
      "its a tie!\n"
     ]
    }
   ],
   "source": [
    "if player1 == player2:\n",
    "    print(\"its a tie!\")\n",
    "elif player1 == \"rock\":\n",
    "    if player2 == \"scissors\":\n",
    "        print(\"player1 wins!\")\n",
    "    elif player2 == \"paper\":\n",
    "        print(\"player2 wins!\")\n",
    "elif player1 == \"paper\":\n",
    "    if player2 == \"rock\":\n",
    "        print(\"player1 wins!\")\n",
    "    elif player2 == \"scissors\":\n",
    "        print(\"player2 wins!\")\n",
    "elif player1 == \"scissors\":\n",
    "    if player2 == \"paper\":\n",
    "        print(\"player1 wins!\")\n",
    "    elif player2 == \"rock\":\n",
    "        print(\"player2 wins!\")\n",
    "else:\n",
    "    print(\"something went wrong!\")    "
   ]
  },
  {
   "cell_type": "code",
   "execution_count": null,
   "metadata": {},
   "outputs": [],
   "source": []
  }
 ],
 "metadata": {
  "kernelspec": {
   "display_name": "Python 3",
   "language": "python",
   "name": "python3"
  },
  "language_info": {
   "codemirror_mode": {
    "name": "ipython",
    "version": 3
   },
   "file_extension": ".py",
   "mimetype": "text/x-python",
   "name": "python",
   "nbconvert_exporter": "python",
   "pygments_lexer": "ipython3",
   "version": "3.8.3"
  }
 },
 "nbformat": 4,
 "nbformat_minor": 4
}
